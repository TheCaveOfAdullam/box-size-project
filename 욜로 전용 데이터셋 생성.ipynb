{
 "cells": [
  {
   "cell_type": "code",
   "execution_count": null,
   "id": "0a708f7e",
   "metadata": {},
   "outputs": [],
   "source": [
    "import os\n",
    "import json\n",
    "from PIL import Image\n",
    "import matplotlib.pyplot as plt\n",
    "import numpy as np\n",
    "import shutil\n",
    "import random\n",
    "from tqdm import tqdm"
   ]
  },
  {
   "cell_type": "code",
   "execution_count": null,
   "id": "a5f69d54",
   "metadata": {},
   "outputs": [],
   "source": [
    "# 디렉토리 설정\n",
    "source_root = r\"C:\\Users\\USER\\Desktop\\47.물류공간 예측 데이터\\3.개방데이터\\1.데이터\\Validation\\01.원천데이터\"\n",
    "label_root  = r\"C:\\Users\\USER\\Desktop\\47.물류공간 예측 데이터\\3.개방데이터\\1.데이터\\Validation\\02.라벨링데이터\""
   ]
  },
  {
   "cell_type": "code",
   "execution_count": null,
   "id": "1b9b65fd",
   "metadata": {},
   "outputs": [],
   "source": [
    "# 1. 모든 이미지 파일 경로 인덱싱\n",
    "print(\"🔍 이미지 파일 인덱싱 중...\")\n",
    "img_map = {}  # {파일명: 전체 경로}\n",
    "for dirpath, _, filenames in os.walk(source_root):\n",
    "    for fname in filenames:\n",
    "        if fname.endswith('.jpg'):\n",
    "            img_map[fname] = os.path.join(dirpath, fname)\n",
    "\n",
    "print(f\"✅ 총 이미지 파일 수: {len(img_map)}\")"
   ]
  },
  {
   "cell_type": "code",
   "execution_count": null,
   "id": "206d5ceb",
   "metadata": {},
   "outputs": [],
   "source": [
    "# 2. 모든 JSON에서 이미지 이름 읽고 매칭\n",
    "pairs = []\n",
    "\n",
    "for dirpath, _, filenames in os.walk(label_root):\n",
    "    for fname in filenames:\n",
    "        if fname.endswith('.json'):\n",
    "            json_path = os.path.join(dirpath, fname)\n",
    "            try:\n",
    "                with open(json_path, 'r', encoding='utf-8') as f:\n",
    "                    data = json.load(f)\n",
    "                file_name = data['images'][0]['file_name']  # <- 이미지 파일명\n",
    "\n",
    "                if file_name in img_map:\n",
    "                    pairs.append((img_map[file_name], json_path))\n",
    "                else:\n",
    "                    print(f\"[❌] 이미지 없음: {file_name}\")\n",
    "            except Exception as e:\n",
    "                print(f\"[⚠️] JSON 처리 오류: {json_path} / {e}\")\n",
    "\n",
    "print(f\"\\n✅ 최종 매칭된 이미지-라벨 쌍: {len(pairs)}개\")"
   ]
  },
  {
   "cell_type": "code",
   "execution_count": null,
   "id": "ac2d450d",
   "metadata": {},
   "outputs": [],
   "source": [
    "# ✅ YOLO 형식 저장 경로\n",
    "yolo_root = r'C:\\Users\\USER\\Desktop\\dataset_yoloseg' # 데이터셋 저장 경로(디렉토리) 지정\n",
    "image_dir = os.path.join(yolo_root, 'images')\n",
    "label_dir = os.path.join(yolo_root, 'labels')"
   ]
  },
  {
   "cell_type": "code",
   "execution_count": null,
   "id": "8eef5273",
   "metadata": {},
   "outputs": [],
   "source": [
    "# ✅ 비율 정의\n",
    "random.seed(42)\n",
    "random.shuffle(pairs)\n",
    "\n",
    "N = len(pairs)\n",
    "train_split = int(0.8 * N)\n",
    "val_split = int(0.9 * N)\n",
    "\n",
    "train_pairs = pairs[:train_split]\n",
    "val_pairs = pairs[train_split:val_split]\n",
    "test_pairs = pairs[val_split:]\n",
    "\n",
    "splits = {'train': train_pairs, 'val': val_pairs, 'test': test_pairs}"
   ]
  },
  {
   "cell_type": "code",
   "execution_count": null,
   "id": "3f1657b1",
   "metadata": {},
   "outputs": [],
   "source": [
    "# ✅ YOLOv8 Seg 포맷 변환 함수\n",
    "def coco_to_yolo_segmentation(annotation, image_w, image_h):\n",
    "    class_id = annotation['category_id'] - 1  # YOLO class는 0부터 시작\n",
    "    seg = annotation['segmentation'][0]\n",
    "    norm_seg = [f\"{x / image_w:.6f}\" if i % 2 == 0 else f\"{x / image_h:.6f}\" for i, x in enumerate(seg)]\n",
    "    return f\"{class_id} \" + \" \".join(norm_seg)"
   ]
  },
  {
   "cell_type": "code",
   "execution_count": null,
   "id": "a1d3e6ba",
   "metadata": {},
   "outputs": [],
   "source": [
    "# ✅ 저장 루프\n",
    "for split_name, split_pairs in splits.items():\n",
    "    print(f\"📁 {split_name.upper()} 세트 저장 중... ({len(split_pairs)}개)\")\n",
    "    img_out_dir = os.path.join(image_dir, split_name)\n",
    "    lbl_out_dir = os.path.join(label_dir, split_name)\n",
    "    os.makedirs(img_out_dir, exist_ok=True)\n",
    "    os.makedirs(lbl_out_dir, exist_ok=True)\n",
    "\n",
    "    for img_path, json_path in tqdm(split_pairs):\n",
    "        try:\n",
    "            # 이미지 복사\n",
    "            fname = os.path.basename(img_path)\n",
    "            shutil.copy(img_path, os.path.join(img_out_dir, fname))\n",
    "\n",
    "            # JSON → YOLO Seg\n",
    "            with open(json_path, 'r', encoding='utf-8') as f:\n",
    "                data = json.load(f)\n",
    "\n",
    "            img_info = data['images'][0]\n",
    "            ann = data['annotations'][0]\n",
    "            w, h = img_info['width'], img_info['height']\n",
    "            yolo_line = coco_to_yolo_segmentation(ann, w, h)\n",
    "\n",
    "            # 저장\n",
    "            base = os.path.splitext(fname)[0]\n",
    "            with open(os.path.join(lbl_out_dir, base + '.txt'), 'w') as f:\n",
    "                f.write(yolo_line + '\\n')\n",
    "\n",
    "        except Exception as e:\n",
    "            print(f\"❌ 오류: {img_path}, {json_path} / {e}\")\n",
    "\n",
    "print(\"✅ 완료되었습니다!\")"
   ]
  },
  {
   "cell_type": "code",
   "execution_count": null,
   "id": "02a587f8",
   "metadata": {},
   "outputs": [],
   "source": []
  },
  {
   "cell_type": "code",
   "execution_count": null,
   "id": "1eade559",
   "metadata": {},
   "outputs": [],
   "source": []
  }
 ],
 "metadata": {
  "kernelspec": {
   "display_name": "Python 3 (ipykernel)",
   "language": "python",
   "name": "python3"
  },
  "language_info": {
   "codemirror_mode": {
    "name": "ipython",
    "version": 3
   },
   "file_extension": ".py",
   "mimetype": "text/x-python",
   "name": "python",
   "nbconvert_exporter": "python",
   "pygments_lexer": "ipython3",
   "version": "3.11.5"
  }
 },
 "nbformat": 4,
 "nbformat_minor": 5
}
