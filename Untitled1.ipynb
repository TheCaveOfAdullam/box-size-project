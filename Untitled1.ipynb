{
 "cells": [
  {
   "cell_type": "code",
   "execution_count": 5,
   "id": "4612b7b4-df36-43e9-abed-ab3d9b7542ce",
   "metadata": {},
   "outputs": [],
   "source": [
    "import os\n",
    "import json\n",
    "import cv2\n",
    "import matplotlib.pyplot as plt\n",
    "import numpy as np"
   ]
  },
  {
   "cell_type": "code",
   "execution_count": 6,
   "id": "53801587-2974-45d1-8f66-1cde069a05a5",
   "metadata": {},
   "outputs": [],
   "source": [
    "# 1. 이미지 및 라벨 파일 경로 설정\n",
    "img_path = r\"C:\\Users\\USER\\Desktop\\47.물류공간 예측 데이터\\3.개방데이터\\1.데이터\\Validation\\01.원천데이터\\01010101_8801052121161_1_1.jpg\"\n",
    "json_path = r\"C:\\Users\\USER\\Desktop\\47.물류공간 예측 데이터\\3.개방데이터\\1.데이터\\Validation\\02.라벨링데이터\\01010101_8801052121161_1_1.json\""
   ]
  },
  {
   "cell_type": "code",
   "execution_count": 8,
   "id": "b60d4be1-5177-450f-bb9e-7c345091b735",
   "metadata": {},
   "outputs": [
    {
     "ename": "error",
     "evalue": "OpenCV(4.10.0) C:\\b\\abs_e4cxka7_7g\\croot\\opencv-suite_1738943368733\\work\\modules\\imgproc\\src\\color.cpp:196: error: (-215:Assertion failed) !_src.empty() in function 'cv::cvtColor'\n",
     "output_type": "error",
     "traceback": [
      "\u001b[1;31m---------------------------------------------------------------------------\u001b[0m",
      "\u001b[1;31merror\u001b[0m                                     Traceback (most recent call last)",
      "Cell \u001b[1;32mIn[8], line 3\u001b[0m\n\u001b[0;32m      1\u001b[0m \u001b[38;5;66;03m# 2. 이미지 로드 (BGR → RGB)\u001b[39;00m\n\u001b[0;32m      2\u001b[0m image \u001b[38;5;241m=\u001b[39m cv2\u001b[38;5;241m.\u001b[39mimread(img_path)\n\u001b[1;32m----> 3\u001b[0m image_rgb \u001b[38;5;241m=\u001b[39m cv2\u001b[38;5;241m.\u001b[39mcvtColor(image, cv2\u001b[38;5;241m.\u001b[39mCOLOR_BGR2RGB)\n\u001b[0;32m      5\u001b[0m \u001b[38;5;66;03m# 3. JSON 로드\u001b[39;00m\n\u001b[0;32m      6\u001b[0m \u001b[38;5;28;01mwith\u001b[39;00m \u001b[38;5;28mopen\u001b[39m(json_path, \u001b[38;5;124m'\u001b[39m\u001b[38;5;124mr\u001b[39m\u001b[38;5;124m'\u001b[39m, encoding\u001b[38;5;241m=\u001b[39m\u001b[38;5;124m'\u001b[39m\u001b[38;5;124mutf-8\u001b[39m\u001b[38;5;124m'\u001b[39m) \u001b[38;5;28;01mas\u001b[39;00m f:\n",
      "\u001b[1;31merror\u001b[0m: OpenCV(4.10.0) C:\\b\\abs_e4cxka7_7g\\croot\\opencv-suite_1738943368733\\work\\modules\\imgproc\\src\\color.cpp:196: error: (-215:Assertion failed) !_src.empty() in function 'cv::cvtColor'\n"
     ]
    }
   ],
   "source": [
    "# 2. 이미지 로드 (BGR → RGB)\n",
    "image = cv2.imread(img_path)\n",
    "image_rgb = cv2.cvtColor(image, cv2.COLOR_BGR2RGB)\n",
    "\n",
    "# 3. JSON 로드\n",
    "with open(json_path, 'r', encoding='utf-8') as f:\n",
    "    data = json.load(f)"
   ]
  },
  {
   "cell_type": "code",
   "execution_count": 4,
   "id": "2e7b0791-465f-4b74-9283-260d94ce27ee",
   "metadata": {},
   "outputs": [
    {
     "ename": "NameError",
     "evalue": "name 'data' is not defined",
     "output_type": "error",
     "traceback": [
      "\u001b[1;31m---------------------------------------------------------------------------\u001b[0m",
      "\u001b[1;31mNameError\u001b[0m                                 Traceback (most recent call last)",
      "Cell \u001b[1;32mIn[4], line 2\u001b[0m\n\u001b[0;32m      1\u001b[0m \u001b[38;5;66;03m# 4. annotation 정보 추출\u001b[39;00m\n\u001b[1;32m----> 2\u001b[0m annotation \u001b[38;5;241m=\u001b[39m data[\u001b[38;5;124m'\u001b[39m\u001b[38;5;124mannotations\u001b[39m\u001b[38;5;124m'\u001b[39m][\u001b[38;5;241m0\u001b[39m]\n\u001b[0;32m      3\u001b[0m bbox \u001b[38;5;241m=\u001b[39m annotation[\u001b[38;5;124m'\u001b[39m\u001b[38;5;124mbbox\u001b[39m\u001b[38;5;124m'\u001b[39m]  \u001b[38;5;66;03m# [x, y, width, height]\u001b[39;00m\n\u001b[0;32m      4\u001b[0m segmentation \u001b[38;5;241m=\u001b[39m annotation[\u001b[38;5;124m'\u001b[39m\u001b[38;5;124msegmentation\u001b[39m\u001b[38;5;124m'\u001b[39m][\u001b[38;5;241m0\u001b[39m]\n",
      "\u001b[1;31mNameError\u001b[0m: name 'data' is not defined"
     ]
    }
   ],
   "source": [
    "# 4. annotation 정보 추출\n",
    "annotation = data['annotations'][0]\n",
    "bbox = annotation['bbox']  # [x, y, width, height]\n",
    "segmentation = annotation['segmentation'][0]  # 평탄화된 polygon list"
   ]
  },
  {
   "cell_type": "code",
   "execution_count": null,
   "id": "84330b5b-ce94-4a9e-8e07-b0058227e6af",
   "metadata": {},
   "outputs": [],
   "source": [
    "# 5. 세그멘테이션 좌표를 (x, y) 쌍으로 묶기\n",
    "seg_points = np.array(segmentation, dtype=np.int32).reshape(-1, 2)"
   ]
  },
  {
   "cell_type": "code",
   "execution_count": null,
   "id": "eea456a8-e345-4096-b29a-4b176ec52cb9",
   "metadata": {},
   "outputs": [],
   "source": [
    "# 6. 시각화\n",
    "plt.figure(figsize=(10, 6))\n",
    "plt.imshow(image_rgb)\n",
    "plt.title(\"Segmentation & BBox Visualization\")"
   ]
  },
  {
   "cell_type": "code",
   "execution_count": null,
   "id": "57bbef4f-6c15-4d2c-8ff1-6c497323f295",
   "metadata": {},
   "outputs": [],
   "source": [
    "# Draw bbox\n",
    "x, y, w, h = bbox\n",
    "rect = plt.Rectangle((x, y), w, h, linewidth=2, edgecolor='red', facecolor='none')\n",
    "plt.gca().add_patch(rect)\n",
    "plt.text(x, y - 5, f\"bbox\", color='red', fontsize=10)"
   ]
  },
  {
   "cell_type": "code",
   "execution_count": null,
   "id": "619bfd71-468c-4850-a258-64a6477416a3",
   "metadata": {},
   "outputs": [],
   "source": [
    "# Draw segmentation\n",
    "plt.plot(seg_points[:, 0], seg_points[:, 1], color='cyan', linewidth=2, linestyle='--')\n",
    "plt.fill(seg_points[:, 0], seg_points[:, 1], color='cyan', alpha=0.3, label='segmentation')\n",
    "\n",
    "plt.axis('off')\n",
    "plt.legend()\n",
    "plt.show()"
   ]
  },
  {
   "cell_type": "code",
   "execution_count": null,
   "id": "3fe79517-b072-4e58-85f9-8ff09e7c850b",
   "metadata": {},
   "outputs": [],
   "source": []
  },
  {
   "cell_type": "code",
   "execution_count": null,
   "id": "80469781-2232-42ef-a1d1-3f6f8355f66f",
   "metadata": {},
   "outputs": [],
   "source": []
  },
  {
   "cell_type": "code",
   "execution_count": null,
   "id": "60d3c73a-1c71-49b2-83ef-05859cc6d3b9",
   "metadata": {},
   "outputs": [],
   "source": []
  },
  {
   "cell_type": "code",
   "execution_count": null,
   "id": "c816b86c-8c9f-4d09-9490-7c8b7382377c",
   "metadata": {},
   "outputs": [],
   "source": []
  }
 ],
 "metadata": {
  "kernelspec": {
   "display_name": "Python 3 (ipykernel)",
   "language": "python",
   "name": "python3"
  },
  "language_info": {
   "codemirror_mode": {
    "name": "ipython",
    "version": 3
   },
   "file_extension": ".py",
   "mimetype": "text/x-python",
   "name": "python",
   "nbconvert_exporter": "python",
   "pygments_lexer": "ipython3",
   "version": "3.13.5"
  }
 },
 "nbformat": 4,
 "nbformat_minor": 5
}
